{
 "cells": [
  {
   "cell_type": "code",
   "execution_count": null,
   "metadata": {},
   "outputs": [],
   "source": [
    "%pip install -U denoiser"
   ]
  },
  {
   "attachments": {},
   "cell_type": "markdown",
   "metadata": {},
   "source": [
    "Command to denoise \n",
    "\n",
    "python -m denoiser.enhance --model_path=<path to the model> --noisy_dir=<path to the dir with the noisy files> --out_dir=<path to store enhanced files>\n",
    "\n",
    "\n",
    "link to facebook denoiser: https://github.com/facebookresearch/denoiser\n"
   ]
  },
  {
   "attachments": {},
   "cell_type": "markdown",
   "metadata": {},
   "source": [
    "Stuff to do:\n",
    "1. Carry out denoiser on datasets\n",
    "2. Link denoised dataset files to preprocessing.py which links to datasets.py to create pytorch datasets\n",
    "3. Create a 1D CNN --> use the given architecture first, see how fast it trains + accuracy\n",
    "      if acc is bad, find a way to augment data to create more data, if doesm't work switch to GMM \n",
    "      if time takes too long, may have to switch to GMM\n",
    "4. create eval.py to evaluate (in the colab tutorial first one)\n",
    "\n",
    "note:\n",
    "   - dataset is extremely small (only 15s per speaker) highly likely that need to augment data\n",
    "   - dataset found in the discord link\n",
    "   - may have to use pretrained model (https://huggingface.co/superb/wav2vec2-base-superb-sid)\n",
    "   - NOT allowed to record own datasets (i.e. make more copies of your voice) but can use pretrained models"
   ]
  }
 ],
 "metadata": {
  "language_info": {
   "name": "python"
  },
  "orig_nbformat": 4
 },
 "nbformat": 4,
 "nbformat_minor": 2
}
