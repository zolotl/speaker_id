{
 "cells": [
  {
   "cell_type": "code",
   "execution_count": 13,
   "metadata": {},
   "outputs": [
    {
     "name": "stdout",
     "output_type": "stream",
     "text": [
      "/home/joel/ai_models/notebookenv/lib/python3.8/site-packages/pydub/utils.py:170: RuntimeWarning: Couldn't find ffmpeg or avconv - defaulting to ffmpeg, but may not work\n",
      "  warn(\"Couldn't find ffmpeg or avconv - defaulting to ffmpeg, but may not work\", RuntimeWarning)\n",
      "Traceback (most recent call last):\n",
      "  File \"preprocessing.py\", line 11, in <module>\n",
      "    from denoiser_script import denoise_audio\n",
      "  File \"/home/joel/ai_models/speaker_id/modules/denoiser_script.py\", line 6, in <module>\n",
      "    model = pretrained.dns64().cuda()\n",
      "  File \"/home/joel/ai_models/notebookenv/lib/python3.8/site-packages/torch/nn/modules/module.py\", line 905, in cuda\n",
      "    return self._apply(lambda t: t.cuda(device))\n",
      "  File \"/home/joel/ai_models/notebookenv/lib/python3.8/site-packages/torch/nn/modules/module.py\", line 797, in _apply\n",
      "    module._apply(fn)\n",
      "  File \"/home/joel/ai_models/notebookenv/lib/python3.8/site-packages/torch/nn/modules/module.py\", line 797, in _apply\n",
      "    module._apply(fn)\n",
      "  File \"/home/joel/ai_models/notebookenv/lib/python3.8/site-packages/torch/nn/modules/module.py\", line 797, in _apply\n",
      "    module._apply(fn)\n",
      "  File \"/home/joel/ai_models/notebookenv/lib/python3.8/site-packages/torch/nn/modules/module.py\", line 820, in _apply\n",
      "    param_applied = fn(param)\n",
      "  File \"/home/joel/ai_models/notebookenv/lib/python3.8/site-packages/torch/nn/modules/module.py\", line 905, in <lambda>\n",
      "    return self._apply(lambda t: t.cuda(device))\n",
      "  File \"/home/joel/ai_models/notebookenv/lib/python3.8/site-packages/torch/cuda/__init__.py\", line 247, in _lazy_init\n",
      "    torch._C._cuda_init()\n",
      "RuntimeError: Found no NVIDIA driver on your system. Please check that you have an NVIDIA GPU and installed a driver from http://www.nvidia.com/Download/index.aspx\n"
     ]
    }
   ],
   "source": [
    "!python3 preprocessing.py"
   ]
  },
  {
   "cell_type": "code",
   "execution_count": 5,
   "metadata": {},
   "outputs": [
    {
     "name": "stdout",
     "output_type": "stream",
     "text": [
      "/home/joel/ai_models/speaker_id/modules\n"
     ]
    }
   ],
   "source": [
    "cd modules"
   ]
  },
  {
   "cell_type": "code",
   "execution_count": 12,
   "metadata": {},
   "outputs": [
    {
     "name": "stdout",
     "output_type": "stream",
     "text": [
      "Collecting denoiser\n",
      "  Using cached denoiser-0.1.5-py3-none-any.whl\n",
      "Collecting hydra-colorlog<1.0 (from denoiser)\n",
      "  Using cached hydra_colorlog-0.1.4-py3-none-any.whl (4.0 kB)\n",
      "Collecting hydra-core<1.0 (from denoiser)\n",
      "  Using cached hydra_core-0.11.3-py3-none-any.whl (72 kB)\n",
      "Collecting julius (from denoiser)\n",
      "  Using cached julius-0.2.7-py3-none-any.whl\n",
      "Requirement already satisfied: numpy>=1.19 in /home/joel/ai_models/notebookenv/lib/python3.8/site-packages (from denoiser) (1.24.3)\n",
      "Collecting pystoi>=0.3.3 (from denoiser)\n",
      "  Using cached pystoi-0.3.3-py2.py3-none-any.whl\n",
      "Requirement already satisfied: six in /home/joel/ai_models/notebookenv/lib/python3.8/site-packages (from denoiser) (1.16.0)\n",
      "Collecting sounddevice>=0.4 (from denoiser)\n",
      "  Downloading sounddevice-0.4.6-py3-none-any.whl (31 kB)\n",
      "Requirement already satisfied: torch>=1.5 in /home/joel/ai_models/notebookenv/lib/python3.8/site-packages (from denoiser) (2.0.1)\n",
      "Requirement already satisfied: torchaudio>=0.5 in /home/joel/ai_models/notebookenv/lib/python3.8/site-packages (from denoiser) (2.0.2)\n",
      "Collecting colorlog (from hydra-colorlog<1.0->denoiser)\n",
      "  Using cached colorlog-6.7.0-py2.py3-none-any.whl (11 kB)\n",
      "Collecting omegaconf<1.5,>=1.4 (from hydra-core<1.0->denoiser)\n",
      "  Using cached omegaconf-1.4.1-py3-none-any.whl (14 kB)\n",
      "Requirement already satisfied: scipy in /home/joel/ai_models/notebookenv/lib/python3.8/site-packages (from pystoi>=0.3.3->denoiser) (1.10.1)\n",
      "Requirement already satisfied: CFFI>=1.0 in /home/joel/ai_models/notebookenv/lib/python3.8/site-packages (from sounddevice>=0.4->denoiser) (1.15.1)\n",
      "Requirement already satisfied: filelock in /home/joel/ai_models/notebookenv/lib/python3.8/site-packages (from torch>=1.5->denoiser) (3.12.0)\n",
      "Requirement already satisfied: typing-extensions in /home/joel/ai_models/notebookenv/lib/python3.8/site-packages (from torch>=1.5->denoiser) (4.6.3)\n",
      "Requirement already satisfied: sympy in /home/joel/ai_models/notebookenv/lib/python3.8/site-packages (from torch>=1.5->denoiser) (1.12)\n",
      "Requirement already satisfied: networkx in /home/joel/ai_models/notebookenv/lib/python3.8/site-packages (from torch>=1.5->denoiser) (3.1)\n",
      "Requirement already satisfied: jinja2 in /home/joel/ai_models/notebookenv/lib/python3.8/site-packages (from torch>=1.5->denoiser) (3.1.2)\n",
      "Requirement already satisfied: nvidia-cuda-nvrtc-cu11==11.7.99 in /home/joel/ai_models/notebookenv/lib/python3.8/site-packages (from torch>=1.5->denoiser) (11.7.99)\n",
      "Requirement already satisfied: nvidia-cuda-runtime-cu11==11.7.99 in /home/joel/ai_models/notebookenv/lib/python3.8/site-packages (from torch>=1.5->denoiser) (11.7.99)\n",
      "Requirement already satisfied: nvidia-cuda-cupti-cu11==11.7.101 in /home/joel/ai_models/notebookenv/lib/python3.8/site-packages (from torch>=1.5->denoiser) (11.7.101)\n",
      "Requirement already satisfied: nvidia-cudnn-cu11==8.5.0.96 in /home/joel/ai_models/notebookenv/lib/python3.8/site-packages (from torch>=1.5->denoiser) (8.5.0.96)\n",
      "Requirement already satisfied: nvidia-cublas-cu11==11.10.3.66 in /home/joel/ai_models/notebookenv/lib/python3.8/site-packages (from torch>=1.5->denoiser) (11.10.3.66)\n",
      "Requirement already satisfied: nvidia-cufft-cu11==10.9.0.58 in /home/joel/ai_models/notebookenv/lib/python3.8/site-packages (from torch>=1.5->denoiser) (10.9.0.58)\n",
      "Requirement already satisfied: nvidia-curand-cu11==10.2.10.91 in /home/joel/ai_models/notebookenv/lib/python3.8/site-packages (from torch>=1.5->denoiser) (10.2.10.91)\n",
      "Requirement already satisfied: nvidia-cusolver-cu11==11.4.0.1 in /home/joel/ai_models/notebookenv/lib/python3.8/site-packages (from torch>=1.5->denoiser) (11.4.0.1)\n",
      "Requirement already satisfied: nvidia-cusparse-cu11==11.7.4.91 in /home/joel/ai_models/notebookenv/lib/python3.8/site-packages (from torch>=1.5->denoiser) (11.7.4.91)\n",
      "Requirement already satisfied: nvidia-nccl-cu11==2.14.3 in /home/joel/ai_models/notebookenv/lib/python3.8/site-packages (from torch>=1.5->denoiser) (2.14.3)\n",
      "Requirement already satisfied: nvidia-nvtx-cu11==11.7.91 in /home/joel/ai_models/notebookenv/lib/python3.8/site-packages (from torch>=1.5->denoiser) (11.7.91)\n",
      "Requirement already satisfied: triton==2.0.0 in /home/joel/ai_models/notebookenv/lib/python3.8/site-packages (from torch>=1.5->denoiser) (2.0.0)\n",
      "Requirement already satisfied: setuptools in /home/joel/ai_models/notebookenv/lib/python3.8/site-packages (from nvidia-cublas-cu11==11.10.3.66->torch>=1.5->denoiser) (67.7.2)\n",
      "Requirement already satisfied: wheel in /home/joel/ai_models/notebookenv/lib/python3.8/site-packages (from nvidia-cublas-cu11==11.10.3.66->torch>=1.5->denoiser) (0.40.0)\n",
      "Requirement already satisfied: cmake in /home/joel/ai_models/notebookenv/lib/python3.8/site-packages (from triton==2.0.0->torch>=1.5->denoiser) (3.26.4)\n",
      "Requirement already satisfied: lit in /home/joel/ai_models/notebookenv/lib/python3.8/site-packages (from triton==2.0.0->torch>=1.5->denoiser) (16.0.5.post0)\n",
      "Requirement already satisfied: pycparser in /home/joel/ai_models/notebookenv/lib/python3.8/site-packages (from CFFI>=1.0->sounddevice>=0.4->denoiser) (2.21)\n",
      "Requirement already satisfied: PyYAML in /home/joel/ai_models/notebookenv/lib/python3.8/site-packages (from omegaconf<1.5,>=1.4->hydra-core<1.0->denoiser) (6.0)\n",
      "Requirement already satisfied: MarkupSafe>=2.0 in /home/joel/ai_models/notebookenv/lib/python3.8/site-packages (from jinja2->torch>=1.5->denoiser) (2.1.3)\n",
      "Requirement already satisfied: mpmath>=0.19 in /home/joel/ai_models/notebookenv/lib/python3.8/site-packages (from sympy->torch>=1.5->denoiser) (1.3.0)\n",
      "Installing collected packages: omegaconf, colorlog, sounddevice, pystoi, hydra-core, hydra-colorlog, julius, denoiser\n",
      "Successfully installed colorlog-6.7.0 denoiser-0.1.5 hydra-colorlog-0.1.4 hydra-core-0.11.3 julius-0.2.7 omegaconf-1.4.1 pystoi-0.3.3 sounddevice-0.4.6\n"
     ]
    }
   ],
   "source": [
    "!pip install -U denoiser #Facebook Denoiser"
   ]
  },
  {
   "cell_type": "code",
   "execution_count": 10,
   "metadata": {},
   "outputs": [
    {
     "name": "stdout",
     "output_type": "stream",
     "text": [
      "audio_augment.py  denoiser.py  precprocessing.py  train.py\r\n",
      "datasets.py       model.py     split_wav.py\r\n"
     ]
    }
   ],
   "source": [
    "ls"
   ]
  },
  {
   "cell_type": "code",
   "execution_count": 16,
   "metadata": {},
   "outputs": [
    {
     "name": "stdout",
     "output_type": "stream",
     "text": [
      "/home/novice-gpteam/brainhack/sid/speaker_id/modules\n"
     ]
    }
   ],
   "source": [
    "cd modules"
   ]
  },
  {
   "cell_type": "code",
   "execution_count": 14,
   "metadata": {},
   "outputs": [
    {
     "name": "stdout",
     "output_type": "stream",
     "text": [
      "\u001b[0m\u001b[01;34mdatasets\u001b[0m/  \u001b[01;34mmodules\u001b[0m/  README.md  requirements.txt  speaker_id.ipynb\r\n"
     ]
    }
   ],
   "source": [
    "ls"
   ]
  },
  {
   "cell_type": "code",
   "execution_count": 2,
   "metadata": {},
   "outputs": [
    {
     "name": "stdout",
     "output_type": "stream",
     "text": [
      "Collecting absl-py==1.4.0 (from -r requirements.txt (line 1))\n",
      "  Using cached absl_py-1.4.0-py3-none-any.whl (126 kB)\n",
      "Collecting alabaster==0.7.13 (from -r requirements.txt (line 2))\n",
      "  Using cached alabaster-0.7.13-py3-none-any.whl (13 kB)\n",
      "Collecting albumentations==1.2.1 (from -r requirements.txt (line 3))\n",
      "  Downloading albumentations-1.2.1-py3-none-any.whl (116 kB)\n",
      "\u001b[2K     \u001b[38;2;114;156;31m━━━━━━━━━━━━━━━━━━━━━━━━━━━━━━━━━━━━━━━\u001b[0m \u001b[32m116.7/116.7 kB\u001b[0m \u001b[31m5.2 MB/s\u001b[0m eta \u001b[36m0:00:00\u001b[0m\n",
      "\u001b[?25hCollecting altair==4.2.2 (from -r requirements.txt (line 4))\n",
      "  Downloading altair-4.2.2-py3-none-any.whl (813 kB)\n",
      "\u001b[2K     \u001b[38;2;114;156;31m━━━━━━━━━━━━━━━━━━━━━━━━━━━━━━━━━━━━━━\u001b[0m \u001b[32m813.6/813.6 kB\u001b[0m \u001b[31m17.4 MB/s\u001b[0m eta \u001b[36m0:00:00\u001b[0m MB/s\u001b[0m eta \u001b[36m0:00:01\u001b[0m\n",
      "\u001b[?25hCollecting anyio==3.6.2 (from -r requirements.txt (line 5))\n",
      "  Downloading anyio-3.6.2-py3-none-any.whl (80 kB)\n",
      "\u001b[2K     \u001b[38;2;114;156;31m━━━━━━━━━━━━━━━━━━━━━━━━━━━━━━━━━━━━━━━━\u001b[0m \u001b[32m80.6/80.6 kB\u001b[0m \u001b[31m23.9 MB/s\u001b[0m eta \u001b[36m0:00:00\u001b[0m\n",
      "\u001b[?25hCollecting appdirs==1.4.4 (from -r requirements.txt (line 6))\n",
      "  Using cached appdirs-1.4.4-py2.py3-none-any.whl (9.6 kB)\n",
      "Requirement already satisfied: argon2-cffi==21.3.0 in /home/joel/ai_models/notebookenv/lib/python3.8/site-packages (from -r requirements.txt (line 7)) (21.3.0)\n",
      "Requirement already satisfied: argon2-cffi-bindings==21.2.0 in /home/joel/ai_models/notebookenv/lib/python3.8/site-packages (from -r requirements.txt (line 8)) (21.2.0)\n",
      "Collecting array-record==0.2.0 (from -r requirements.txt (line 9))\n",
      "  Downloading array_record-0.2.0-py38-none-any.whl (3.0 MB)\n",
      "\u001b[2K     \u001b[38;2;114;156;31m━━━━━━━━━━━━━━━━━━━━━━━━━━━━━━━━━━━━━━━━\u001b[0m \u001b[32m3.0/3.0 MB\u001b[0m \u001b[31m36.0 MB/s\u001b[0m eta \u001b[36m0:00:00\u001b[0mm eta \u001b[36m0:00:01\u001b[0m0:01\u001b[0m\n",
      "\u001b[?25hCollecting arviz==0.15.1 (from -r requirements.txt (line 10))\n",
      "  Downloading arviz-0.15.1-py3-none-any.whl (1.6 MB)\n",
      "\u001b[2K     \u001b[38;2;114;156;31m━━━━━━━━━━━━━━━━━━━━━━━━━━━━━━━━━━━━━━━━\u001b[0m \u001b[32m1.6/1.6 MB\u001b[0m \u001b[31m39.3 MB/s\u001b[0m eta \u001b[36m0:00:00\u001b[0mm eta \u001b[36m0:00:01\u001b[0m\n",
      "\u001b[?25hCollecting astropy==5.2.2 (from -r requirements.txt (line 11))\n",
      "  Downloading astropy-5.2.2-cp38-cp38-manylinux_2_12_x86_64.manylinux2010_x86_64.whl (11.4 MB)\n",
      "\u001b[2K     \u001b[38;2;114;156;31m━━━━━━━━━━━━━━━━━━━━━━━━━━━━━━━━━━━━━━━━\u001b[0m \u001b[32m11.4/11.4 MB\u001b[0m \u001b[31m35.7 MB/s\u001b[0m eta \u001b[36m0:00:00\u001b[0mm eta \u001b[36m0:00:01\u001b[0m[36m0:00:01\u001b[0m\n",
      "\u001b[?25hCollecting astunparse==1.6.3 (from -r requirements.txt (line 12))\n",
      "  Using cached astunparse-1.6.3-py2.py3-none-any.whl (12 kB)\n",
      "Requirement already satisfied: attrs==23.1.0 in /home/joel/ai_models/notebookenv/lib/python3.8/site-packages (from -r requirements.txt (line 13)) (23.1.0)\n",
      "Collecting audioread==3.0.0 (from -r requirements.txt (line 14))\n",
      "  Using cached audioread-3.0.0-py3-none-any.whl\n",
      "Collecting autograd==1.5 (from -r requirements.txt (line 15))\n",
      "  Downloading autograd-1.5-py3-none-any.whl (48 kB)\n",
      "\u001b[2K     \u001b[38;2;114;156;31m━━━━━━━━━━━━━━━━━━━━━━━━━━━━━━━━━━━━━━━━\u001b[0m \u001b[32m48.9/48.9 kB\u001b[0m \u001b[31m7.8 MB/s\u001b[0m eta \u001b[36m0:00:00\u001b[0m\n",
      "\u001b[?25hCollecting Babel==2.12.1 (from -r requirements.txt (line 16))\n",
      "  Using cached Babel-2.12.1-py3-none-any.whl (10.1 MB)\n",
      "Requirement already satisfied: backcall==0.2.0 in /home/joel/ai_models/notebookenv/lib/python3.8/site-packages (from -r requirements.txt (line 17)) (0.2.0)\n",
      "Collecting beautifulsoup4==4.11.2 (from -r requirements.txt (line 18))\n",
      "  Downloading beautifulsoup4-4.11.2-py3-none-any.whl (129 kB)\n",
      "\u001b[2K     \u001b[38;2;114;156;31m━━━━━━━━━━━━━━━━━━━━━━━━━━━━━━━━━━━━━━\u001b[0m \u001b[32m129.4/129.4 kB\u001b[0m \u001b[31m24.4 MB/s\u001b[0m eta \u001b[36m0:00:00\u001b[0m\n",
      "\u001b[?25hRequirement already satisfied: bleach==6.0.0 in /home/joel/ai_models/notebookenv/lib/python3.8/site-packages (from -r requirements.txt (line 19)) (6.0.0)\n",
      "Collecting blis==0.7.9 (from -r requirements.txt (line 20))\n",
      "  Downloading blis-0.7.9-cp38-cp38-manylinux_2_17_x86_64.manylinux2014_x86_64.whl (10.2 MB)\n",
      "\u001b[2K     \u001b[38;2;114;156;31m━━━━━━━━━━━━━━━━━━━━━━━━━━━━━━━━━━━━━━━━\u001b[0m \u001b[32m10.2/10.2 MB\u001b[0m \u001b[31m27.0 MB/s\u001b[0m eta \u001b[36m0:00:00\u001b[0mm eta \u001b[36m0:00:01\u001b[0m36m0:00:01\u001b[0m\n",
      "\u001b[?25hCollecting blosc2==2.0.0 (from -r requirements.txt (line 21))\n",
      "  Downloading blosc2-2.0.0-cp38-cp38-manylinux_2_17_x86_64.manylinux2014_x86_64.whl (3.9 MB)\n",
      "\u001b[2K     \u001b[38;2;114;156;31m━━━━━━━━━━━━━━━━━━━━━━━━━━━━━━━━━━━━━━━━\u001b[0m \u001b[32m3.9/3.9 MB\u001b[0m \u001b[31m35.5 MB/s\u001b[0m eta \u001b[36m0:00:00\u001b[0mm eta \u001b[36m0:00:01\u001b[0m0:01\u001b[0m:01\u001b[0m\n",
      "\u001b[?25hCollecting bokeh==2.4.3 (from -r requirements.txt (line 22))\n",
      "  Downloading bokeh-2.4.3-py3-none-any.whl (18.5 MB)\n",
      "\u001b[2K     \u001b[38;2;114;156;31m━━━━━━━━━━━━━━━━━━━━━━━━━━━━━━━━━━━━━━━━\u001b[0m \u001b[32m18.5/18.5 MB\u001b[0m \u001b[31m32.5 MB/s\u001b[0m eta \u001b[36m0:00:00\u001b[0mm eta \u001b[36m0:00:01\u001b[0m[36m0:00:01\u001b[0m\n",
      "\u001b[?25hCollecting branca==0.6.0 (from -r requirements.txt (line 23))\n",
      "  Downloading branca-0.6.0-py3-none-any.whl (24 kB)\n",
      "Collecting build==0.10.0 (from -r requirements.txt (line 24))\n",
      "  Downloading build-0.10.0-py3-none-any.whl (17 kB)\n",
      "Collecting CacheControl==0.12.11 (from -r requirements.txt (line 25))\n",
      "  Downloading CacheControl-0.12.11-py2.py3-none-any.whl (21 kB)\n",
      "Collecting cached-property==1.5.2 (from -r requirements.txt (line 26))\n",
      "  Downloading cached_property-1.5.2-py2.py3-none-any.whl (7.6 kB)\n",
      "Collecting cachetools==5.3.0 (from -r requirements.txt (line 27))\n",
      "  Downloading cachetools-5.3.0-py3-none-any.whl (9.3 kB)\n",
      "Collecting catalogue==2.0.8 (from -r requirements.txt (line 28))\n",
      "  Downloading catalogue-2.0.8-py3-none-any.whl (17 kB)\n",
      "Collecting certifi==2022.12.7 (from -r requirements.txt (line 29))\n",
      "  Downloading certifi-2022.12.7-py3-none-any.whl (155 kB)\n",
      "\u001b[2K     \u001b[38;2;114;156;31m━━━━━━━━━━━━━━━━━━━━━━━━━━━━━━━━━━━━━━\u001b[0m \u001b[32m155.3/155.3 kB\u001b[0m \u001b[31m33.0 MB/s\u001b[0m eta \u001b[36m0:00:00\u001b[0m\n",
      "\u001b[?25hRequirement already satisfied: cffi==1.15.1 in /home/joel/ai_models/notebookenv/lib/python3.8/site-packages (from -r requirements.txt (line 30)) (1.15.1)\n",
      "Collecting chardet==4.0.0 (from -r requirements.txt (line 31))\n",
      "  Downloading chardet-4.0.0-py2.py3-none-any.whl (178 kB)\n",
      "\u001b[2K     \u001b[38;2;114;156;31m━━━━━━━━━━━━━━━━━━━━━━━━━━━━━━━━━━━━━━\u001b[0m \u001b[32m178.7/178.7 kB\u001b[0m \u001b[31m37.3 MB/s\u001b[0m eta \u001b[36m0:00:00\u001b[0m\n",
      "\u001b[?25hCollecting charset-normalizer==2.0.12 (from -r requirements.txt (line 32))\n",
      "  Downloading charset_normalizer-2.0.12-py3-none-any.whl (39 kB)\n",
      "Collecting chex==0.1.7 (from -r requirements.txt (line 33))\n",
      "  Downloading chex-0.1.7-py3-none-any.whl (89 kB)\n",
      "\u001b[2K     \u001b[38;2;114;156;31m━━━━━━━━━━━━━━━━━━━━━━━━━━━━━━━━━━━━━━━━\u001b[0m \u001b[32m89.6/89.6 kB\u001b[0m \u001b[31m27.0 MB/s\u001b[0m eta \u001b[36m0:00:00\u001b[0m\n",
      "\u001b[?25hCollecting click==8.1.3 (from -r requirements.txt (line 34))\n",
      "  Using cached click-8.1.3-py3-none-any.whl (96 kB)\n",
      "Collecting cloudpickle==2.2.1 (from -r requirements.txt (line 35))\n",
      "  Downloading cloudpickle-2.2.1-py3-none-any.whl (25 kB)\n",
      "Collecting cmake==3.25.2 (from -r requirements.txt (line 36))\n",
      "  Downloading cmake-3.25.2-py2.py3-none-manylinux_2_17_x86_64.manylinux2014_x86_64.whl (23.7 MB)\n",
      "\u001b[2K     \u001b[38;2;114;156;31m━━━━━━━━━━━━━━━━━━━━━━━━━━━━━━━━━━━━━━━━\u001b[0m \u001b[32m23.7/23.7 MB\u001b[0m \u001b[31m27.6 MB/s\u001b[0m eta \u001b[36m0:00:00\u001b[0mm eta \u001b[36m0:00:01\u001b[0m0:01\u001b[0m:01\u001b[0m\n",
      "\u001b[?25hCollecting cmdstanpy==1.1.0 (from -r requirements.txt (line 37))\n",
      "  Downloading cmdstanpy-1.1.0-py3-none-any.whl (83 kB)\n",
      "\u001b[2K     \u001b[38;2;114;156;31m━━━━━━━━━━━━━━━━━━━━━━━━━━━━━━━━━━━━━━━━\u001b[0m \u001b[32m83.2/83.2 kB\u001b[0m \u001b[31m20.3 MB/s\u001b[0m eta \u001b[36m0:00:00\u001b[0m\n",
      "\u001b[?25hCollecting colorcet==3.0.1 (from -r requirements.txt (line 38))\n",
      "  Downloading colorcet-3.0.1-py2.py3-none-any.whl (1.7 MB)\n",
      "\u001b[2K     \u001b[38;2;114;156;31m━━━━━━━━━━━━━━━━━━━━━━━━━━━━━━━━━━━━━━━━\u001b[0m \u001b[32m1.7/1.7 MB\u001b[0m \u001b[31m28.0 MB/s\u001b[0m eta \u001b[36m0:00:00\u001b[0m31m18.0 MB/s\u001b[0m eta \u001b[36m0:00:01\u001b[0m\n",
      "\u001b[?25hCollecting colorlog==6.7.0 (from -r requirements.txt (line 39))\n",
      "  Using cached colorlog-6.7.0-py2.py3-none-any.whl (11 kB)\n",
      "Collecting colorlover==0.3.0 (from -r requirements.txt (line 40))\n",
      "  Downloading colorlover-0.3.0-py3-none-any.whl (8.9 kB)\n",
      "Collecting community==1.0.0b1 (from -r requirements.txt (line 41))\n",
      "  Downloading community-1.0.0b1.tar.gz (2.2 kB)\n",
      "  Preparing metadata (setup.py) ... \u001b[?25ldone\n",
      "\u001b[?25hCollecting confection==0.0.4 (from -r requirements.txt (line 42))\n",
      "  Downloading confection-0.0.4-py3-none-any.whl (32 kB)\n",
      "Collecting cons==0.4.5 (from -r requirements.txt (line 43))\n",
      "  Downloading cons-0.4.5.tar.gz (26 kB)\n"
     ]
    },
    {
     "name": "stdout",
     "output_type": "stream",
     "text": [
      "  Preparing metadata (setup.py) ... \u001b[?25ldone\n",
      "\u001b[?25hCollecting contextlib2==0.6.0.post1 (from -r requirements.txt (line 44))\n",
      "  Downloading contextlib2-0.6.0.post1-py2.py3-none-any.whl (9.8 kB)\n",
      "Requirement already satisfied: contourpy==1.0.7 in /home/joel/ai_models/notebookenv/lib/python3.8/site-packages (from -r requirements.txt (line 45)) (1.0.7)\n",
      "Collecting convertdate==2.4.0 (from -r requirements.txt (line 46))\n",
      "  Downloading convertdate-2.4.0-py3-none-any.whl (47 kB)\n",
      "\u001b[2K     \u001b[38;2;114;156;31m━━━━━━━━━━━━━━━━━━━━━━━━━━━━━━━━━━━━━━━━\u001b[0m \u001b[32m47.9/47.9 kB\u001b[0m \u001b[31m10.2 MB/s\u001b[0m eta \u001b[36m0:00:00\u001b[0m\n",
      "\u001b[?25hCollecting cryptography==40.0.2 (from -r requirements.txt (line 47))\n",
      "  Downloading cryptography-40.0.2-cp36-abi3-manylinux_2_28_x86_64.whl (3.7 MB)\n",
      "\u001b[2K     \u001b[38;2;114;156;31m━━━━━━━━━━━━━━━━━━━━━━━━━━━━━━━━━━━━━━━━\u001b[0m \u001b[32m3.7/3.7 MB\u001b[0m \u001b[31m18.8 MB/s\u001b[0m eta \u001b[36m0:00:00\u001b[0m MB/s\u001b[0m eta \u001b[36m0:00:01\u001b[0m:01\u001b[0m\n",
      "\u001b[?25hCollecting cufflinks==0.17.3 (from -r requirements.txt (line 48))\n",
      "  Downloading cufflinks-0.17.3.tar.gz (81 kB)\n",
      "\u001b[2K     \u001b[38;2;114;156;31m━━━━━━━━━━━━━━━━━━━━━━━━━━━━━━━━━━━━━━━━\u001b[0m \u001b[32m81.7/81.7 kB\u001b[0m \u001b[31m14.7 MB/s\u001b[0m eta \u001b[36m0:00:00\u001b[0m\n",
      "\u001b[?25h  Preparing metadata (setup.py) ... \u001b[?25ldone\n",
      "\u001b[?25hCollecting cupy-cuda11x==11.0.0 (from -r requirements.txt (line 49))\n",
      "  Downloading cupy_cuda11x-11.0.0-cp38-cp38-manylinux1_x86_64.whl (83.7 MB)\n",
      "\u001b[2K     \u001b[38;2;114;156;31m━━━━━━━━━━━━━━━━━━━━━━━━━━━━━━━━━━━━━━━━\u001b[0m \u001b[32m83.7/83.7 MB\u001b[0m \u001b[31m21.7 MB/s\u001b[0m eta \u001b[36m0:00:00\u001b[0mm eta \u001b[36m0:00:01\u001b[0m[36m0:00:01\u001b[0m\n",
      "\u001b[?25hCollecting cvxopt==1.3.0 (from -r requirements.txt (line 50))\n",
      "  Downloading cvxopt-1.3.0-cp38-cp38-manylinux_2_17_x86_64.manylinux2014_x86_64.whl (12.7 MB)\n",
      "\u001b[2K     \u001b[38;2;114;156;31m━━━━━━━━━━━━━━━━━━━━━━━━━━━━━━━━━━━━━━━━\u001b[0m \u001b[32m12.7/12.7 MB\u001b[0m \u001b[31m38.3 MB/s\u001b[0m eta \u001b[36m0:00:00\u001b[0m31m43.3 MB/s\u001b[0m eta \u001b[36m0:00:01\u001b[0m\n",
      "\u001b[?25hCollecting cvxpy==1.3.1 (from -r requirements.txt (line 51))\n",
      "  Downloading cvxpy-1.3.1-cp38-cp38-manylinux_2_17_x86_64.manylinux2014_x86_64.whl (4.0 MB)\n",
      "\u001b[2K     \u001b[38;2;114;156;31m━━━━━━━━━━━━━━━━━━━━━━━━━━━━━━━━━━━━━━━━\u001b[0m \u001b[32m4.0/4.0 MB\u001b[0m \u001b[31m36.7 MB/s\u001b[0m eta \u001b[36m0:00:00\u001b[0mm eta \u001b[36m0:00:01\u001b[0m[36m0:00:01\u001b[0m\n",
      "\u001b[?25hRequirement already satisfied: cycler==0.11.0 in /home/joel/ai_models/notebookenv/lib/python3.8/site-packages (from -r requirements.txt (line 52)) (0.11.0)\n",
      "Collecting cymem==2.0.7 (from -r requirements.txt (line 53))\n",
      "  Downloading cymem-2.0.7-cp38-cp38-manylinux_2_17_x86_64.manylinux2014_x86_64.whl (36 kB)\n",
      "Collecting Cython==0.29.34 (from -r requirements.txt (line 54))\n",
      "  Downloading Cython-0.29.34-cp38-cp38-manylinux_2_17_x86_64.manylinux2014_x86_64.manylinux_2_24_x86_64.whl (2.0 MB)\n",
      "\u001b[2K     \u001b[38;2;114;156;31m━━━━━━━━━━━━━━━━━━━━━━━━━━━━━━━━━━━━━━━━\u001b[0m \u001b[32m2.0/2.0 MB\u001b[0m \u001b[31m41.2 MB/s\u001b[0m eta \u001b[36m0:00:00\u001b[0m31m50.7 MB/s\u001b[0m eta \u001b[36m0:00:01\u001b[0m\n",
      "\u001b[?25hCollecting dask==2022.12.1 (from -r requirements.txt (line 55))\n",
      "  Downloading dask-2022.12.1-py3-none-any.whl (1.1 MB)\n",
      "\u001b[2K     \u001b[38;2;114;156;31m━━━━━━━━━━━━━━━━━━━━━━━━━━━━━━━━━━━━━━━━\u001b[0m \u001b[32m1.1/1.1 MB\u001b[0m \u001b[31m19.7 MB/s\u001b[0m eta \u001b[36m0:00:00\u001b[0m MB/s\u001b[0m eta \u001b[36m0:00:01\u001b[0m\n",
      "\u001b[?25hCollecting datascience==0.17.6 (from -r requirements.txt (line 56))\n",
      "  Downloading datascience-0.17.6-py3-none-any.whl (732 kB)\n",
      "\u001b[2K     \u001b[38;2;114;156;31m━━━━━━━━━━━━━━━━━━━━━━━━━━━━━━━━━━━━━━\u001b[0m \u001b[32m732.8/732.8 kB\u001b[0m \u001b[31m34.1 MB/s\u001b[0m eta \u001b[36m0:00:00\u001b[0m\n",
      "\u001b[?25hCollecting db-dtypes==1.1.1 (from -r requirements.txt (line 57))\n",
      "  Downloading db_dtypes-1.1.1-py2.py3-none-any.whl (14 kB)\n",
      "Collecting dbus-python==1.2.16 (from -r requirements.txt (line 58))\n",
      "  Downloading dbus-python-1.2.16.tar.gz (576 kB)\n",
      "\u001b[2K     \u001b[38;2;114;156;31m━━━━━━━━━━━━━━━━━━━━━━━━━━━━━━━━━━━━━━\u001b[0m \u001b[32m576.7/576.7 kB\u001b[0m \u001b[31m52.3 MB/s\u001b[0m eta \u001b[36m0:00:00\u001b[0m\n",
      "\u001b[?25h  Preparing metadata (setup.py) ... \u001b[?25ldone\n",
      "\u001b[?25hCollecting debugpy==1.6.6 (from -r requirements.txt (line 59))\n",
      "  Downloading debugpy-1.6.6-cp38-cp38-manylinux_2_17_x86_64.manylinux2014_x86_64.whl (3.1 MB)\n",
      "\u001b[2K     \u001b[38;2;114;156;31m━━━━━━━━━━━━━━━━━━━━━━━━━━━━━━━━━━━━━━━━\u001b[0m \u001b[32m3.1/3.1 MB\u001b[0m \u001b[31m34.8 MB/s\u001b[0m eta \u001b[36m0:00:00\u001b[0m31m44.8 MB/s\u001b[0m eta \u001b[36m0:00:01\u001b[0m\n",
      "\u001b[?25hCollecting decorator==4.4.2 (from -r requirements.txt (line 60))\n",
      "  Downloading decorator-4.4.2-py2.py3-none-any.whl (9.2 kB)\n",
      "Requirement already satisfied: defusedxml==0.7.1 in /home/joel/ai_models/notebookenv/lib/python3.8/site-packages (from -r requirements.txt (line 61)) (0.7.1)\n",
      "Collecting denoiser==0.1.5 (from -r requirements.txt (line 62))\n",
      "  Using cached denoiser-0.1.5-py3-none-any.whl\n",
      "Collecting distributed==2022.12.1 (from -r requirements.txt (line 63))\n",
      "  Downloading distributed-2022.12.1-py3-none-any.whl (930 kB)\n",
      "\u001b[2K     \u001b[38;2;114;156;31m━━━━━━━━━━━━━━━━━━━━━━━━━━━━━━━━━━━━━━\u001b[0m \u001b[32m930.1/930.1 kB\u001b[0m \u001b[31m41.4 MB/s\u001b[0m eta \u001b[36m0:00:00\u001b[0m\n",
      "\u001b[?25hCollecting dlib==19.24.1 (from -r requirements.txt (line 64))\n",
      "  Downloading dlib-19.24.1.tar.gz (3.2 MB)\n",
      "\u001b[2K     \u001b[38;2;114;156;31m━━━━━━━━━━━━━━━━━━━━━━━━━━━━━━━━━━━━━━━━\u001b[0m \u001b[32m3.2/3.2 MB\u001b[0m \u001b[31m35.6 MB/s\u001b[0m eta \u001b[36m0:00:00\u001b[0m MB/s\u001b[0m eta \u001b[36m0:00:01\u001b[0m:01\u001b[0m\n",
      "\u001b[?25h  Preparing metadata (setup.py) ... \u001b[?25ldone\n",
      "\u001b[?25hCollecting dm-tree==0.1.8 (from -r requirements.txt (line 65))\n",
      "  Downloading dm_tree-0.1.8-cp38-cp38-manylinux_2_17_x86_64.manylinux2014_x86_64.whl (152 kB)\n",
      "\u001b[2K     \u001b[38;2;114;156;31m━━━━━━━━━━━━━━━━━━━━━━━━━━━━━━━━━━━━━━\u001b[0m \u001b[32m152.9/152.9 kB\u001b[0m \u001b[31m16.0 MB/s\u001b[0m eta \u001b[36m0:00:00\u001b[0m\n",
      "\u001b[?25hCollecting docutils==0.16 (from -r requirements.txt (line 66))\n",
      "  Downloading docutils-0.16-py2.py3-none-any.whl (548 kB)\n",
      "\u001b[2K     \u001b[38;2;114;156;31m━━━━━━━━━━━━━━━━━━━━━━━━━━━━━━━━━━━━━━\u001b[0m \u001b[32m548.2/548.2 kB\u001b[0m \u001b[31m12.5 MB/s\u001b[0m eta \u001b[36m0:00:00\u001b[0mm eta \u001b[36m0:00:01\u001b[0m\n",
      "\u001b[?25hCollecting dopamine-rl==4.0.6 (from -r requirements.txt (line 67))\n",
      "  Downloading dopamine_rl-4.0.6-py3-none-any.whl (179 kB)\n",
      "\u001b[2K     \u001b[38;2;114;156;31m━━━━━━━━━━━━━━━━━━━━━━━━━━━━━━━━━━━━━━\u001b[0m \u001b[32m179.6/179.6 kB\u001b[0m \u001b[31m26.4 MB/s\u001b[0m eta \u001b[36m0:00:00\u001b[0m\n",
      "\u001b[?25hCollecting duckdb==0.7.1 (from -r requirements.txt (line 68))\n",
      "  Downloading duckdb-0.7.1-cp38-cp38-manylinux_2_17_x86_64.manylinux2014_x86_64.whl (15.2 MB)\n",
      "\u001b[2K     \u001b[38;2;114;156;31m━━━━━━━━━━━━━━━━━━━━━━━━━━━━━━━━━━━━━━━━\u001b[0m \u001b[32m15.2/15.2 MB\u001b[0m \u001b[31m29.9 MB/s\u001b[0m eta \u001b[36m0:00:00\u001b[0mm eta \u001b[36m0:00:01\u001b[0m[36m0:00:01\u001b[0m\n",
      "\u001b[?25hCollecting earthengine-api==0.1.350 (from -r requirements.txt (line 69))\n",
      "  Downloading earthengine-api-0.1.350.tar.gz (245 kB)\n",
      "\u001b[2K     \u001b[38;2;114;156;31m━━━━━━━━━━━━━━━━━━━━━━━━━━━━━━━━━━━━━━\u001b[0m \u001b[32m246.0/246.0 kB\u001b[0m \u001b[31m23.2 MB/s\u001b[0m eta \u001b[36m0:00:00\u001b[0m\n",
      "\u001b[?25h  Preparing metadata (setup.py) ... \u001b[?25ldone\n",
      "\u001b[?25hCollecting easydict==1.10 (from -r requirements.txt (line 70))\n",
      "  Downloading easydict-1.10.tar.gz (6.4 kB)\n",
      "  Preparing metadata (setup.py) ... \u001b[?25ldone\n",
      "\u001b[?25hCollecting ecos==2.0.12 (from -r requirements.txt (line 71))\n",
      "  Downloading ecos-2.0.12-cp38-cp38-manylinux_2_17_x86_64.manylinux2014_x86_64.whl (221 kB)\n",
      "\u001b[2K     \u001b[38;2;114;156;31m━━━━━━━━━━━━━━━━━━━━━━━━━━━━━━━━━━━━━━\u001b[0m \u001b[32m221.6/221.6 kB\u001b[0m \u001b[31m41.1 MB/s\u001b[0m eta \u001b[36m0:00:00\u001b[0m\n",
      "\u001b[?25hCollecting editdistance==0.6.2 (from -r requirements.txt (line 72))\n",
      "  Downloading editdistance-0.6.2-cp38-cp38-manylinux_2_17_x86_64.manylinux2014_x86_64.whl (283 kB)\n",
      "\u001b[2K     \u001b[38;2;114;156;31m━━━━━━━━━━━━━━━━━━━━━━━━━━━━━━━━━━━━━━\u001b[0m \u001b[32m283.4/283.4 kB\u001b[0m \u001b[31m38.2 MB/s\u001b[0m eta \u001b[36m0:00:00\u001b[0m\n",
      "\u001b[?25h\u001b[31mERROR: Ignored the following versions that require a different python version: 2023.5.1 Requires-Python >=3.9; 2023.6.0 Requires-Python >=3.9; 3.2.0.dev1 Requires-Python >=3.9; 3.2.0.dev2 Requires-Python >=3.9; 3.2.0.dev3 Requires-Python >=3.9; 3.2.0.dev4 Requires-Python >=3.9; 5.3 Requires-Python >=3.9; 5.3rc1 Requires-Python >=3.9\u001b[0m\u001b[31m\n",
      "\u001b[0m\u001b[31mERROR: Could not find a version that satisfies the requirement en-core-web-sm==3.5.0 (from versions: none)\u001b[0m\u001b[31m\n",
      "\u001b[0m\u001b[31mERROR: No matching distribution found for en-core-web-sm==3.5.0\u001b[0m\u001b[31m\n",
      "\u001b[0mNote: you may need to restart the kernel to use updated packages.\n"
     ]
    }
   ],
   "source": [
    "pip install -r requirements.txt"
   ]
  },
  {
   "cell_type": "code",
   "execution_count": 3,
   "metadata": {},
   "outputs": [
    {
     "name": "stdout",
     "output_type": "stream",
     "text": [
      "Collecting torchaudio\n",
      "  Using cached torchaudio-2.0.2-cp38-cp38-manylinux1_x86_64.whl (4.4 MB)\n",
      "Requirement already satisfied: torch==2.0.1 in /home/joel/ai_models/notebookenv/lib/python3.8/site-packages (from torchaudio) (2.0.1)\n",
      "Requirement already satisfied: filelock in /home/joel/ai_models/notebookenv/lib/python3.8/site-packages (from torch==2.0.1->torchaudio) (3.12.0)\n",
      "Requirement already satisfied: typing-extensions in /home/joel/ai_models/notebookenv/lib/python3.8/site-packages (from torch==2.0.1->torchaudio) (4.6.3)\n",
      "Requirement already satisfied: sympy in /home/joel/ai_models/notebookenv/lib/python3.8/site-packages (from torch==2.0.1->torchaudio) (1.12)\n",
      "Requirement already satisfied: networkx in /home/joel/ai_models/notebookenv/lib/python3.8/site-packages (from torch==2.0.1->torchaudio) (3.1)\n",
      "Requirement already satisfied: jinja2 in /home/joel/ai_models/notebookenv/lib/python3.8/site-packages (from torch==2.0.1->torchaudio) (3.1.2)\n",
      "Requirement already satisfied: nvidia-cuda-nvrtc-cu11==11.7.99 in /home/joel/ai_models/notebookenv/lib/python3.8/site-packages (from torch==2.0.1->torchaudio) (11.7.99)\n",
      "Requirement already satisfied: nvidia-cuda-runtime-cu11==11.7.99 in /home/joel/ai_models/notebookenv/lib/python3.8/site-packages (from torch==2.0.1->torchaudio) (11.7.99)\n",
      "Requirement already satisfied: nvidia-cuda-cupti-cu11==11.7.101 in /home/joel/ai_models/notebookenv/lib/python3.8/site-packages (from torch==2.0.1->torchaudio) (11.7.101)\n",
      "Requirement already satisfied: nvidia-cudnn-cu11==8.5.0.96 in /home/joel/ai_models/notebookenv/lib/python3.8/site-packages (from torch==2.0.1->torchaudio) (8.5.0.96)\n",
      "Requirement already satisfied: nvidia-cublas-cu11==11.10.3.66 in /home/joel/ai_models/notebookenv/lib/python3.8/site-packages (from torch==2.0.1->torchaudio) (11.10.3.66)\n",
      "Requirement already satisfied: nvidia-cufft-cu11==10.9.0.58 in /home/joel/ai_models/notebookenv/lib/python3.8/site-packages (from torch==2.0.1->torchaudio) (10.9.0.58)\n",
      "Requirement already satisfied: nvidia-curand-cu11==10.2.10.91 in /home/joel/ai_models/notebookenv/lib/python3.8/site-packages (from torch==2.0.1->torchaudio) (10.2.10.91)\n",
      "Requirement already satisfied: nvidia-cusolver-cu11==11.4.0.1 in /home/joel/ai_models/notebookenv/lib/python3.8/site-packages (from torch==2.0.1->torchaudio) (11.4.0.1)\n",
      "Requirement already satisfied: nvidia-cusparse-cu11==11.7.4.91 in /home/joel/ai_models/notebookenv/lib/python3.8/site-packages (from torch==2.0.1->torchaudio) (11.7.4.91)\n",
      "Requirement already satisfied: nvidia-nccl-cu11==2.14.3 in /home/joel/ai_models/notebookenv/lib/python3.8/site-packages (from torch==2.0.1->torchaudio) (2.14.3)\n",
      "Requirement already satisfied: nvidia-nvtx-cu11==11.7.91 in /home/joel/ai_models/notebookenv/lib/python3.8/site-packages (from torch==2.0.1->torchaudio) (11.7.91)\n",
      "Requirement already satisfied: triton==2.0.0 in /home/joel/ai_models/notebookenv/lib/python3.8/site-packages (from torch==2.0.1->torchaudio) (2.0.0)\n",
      "Requirement already satisfied: setuptools in /home/joel/ai_models/notebookenv/lib/python3.8/site-packages (from nvidia-cublas-cu11==11.10.3.66->torch==2.0.1->torchaudio) (67.7.2)\n",
      "Requirement already satisfied: wheel in /home/joel/ai_models/notebookenv/lib/python3.8/site-packages (from nvidia-cublas-cu11==11.10.3.66->torch==2.0.1->torchaudio) (0.40.0)\n",
      "Requirement already satisfied: cmake in /home/joel/ai_models/notebookenv/lib/python3.8/site-packages (from triton==2.0.0->torch==2.0.1->torchaudio) (3.26.4)\n",
      "Requirement already satisfied: lit in /home/joel/ai_models/notebookenv/lib/python3.8/site-packages (from triton==2.0.0->torch==2.0.1->torchaudio) (16.0.5.post0)\n",
      "Requirement already satisfied: MarkupSafe>=2.0 in /home/joel/ai_models/notebookenv/lib/python3.8/site-packages (from jinja2->torch==2.0.1->torchaudio) (2.1.3)\n",
      "Requirement already satisfied: mpmath>=0.19 in /home/joel/ai_models/notebookenv/lib/python3.8/site-packages (from sympy->torch==2.0.1->torchaudio) (1.3.0)\n",
      "Installing collected packages: torchaudio\n",
      "Successfully installed torchaudio-2.0.2\n",
      "Note: you may need to restart the kernel to use updated packages.\n"
     ]
    }
   ],
   "source": [
    "pip install torchaudio"
   ]
  },
  {
   "cell_type": "code",
   "execution_count": 8,
   "metadata": {},
   "outputs": [
    {
     "name": "stdout",
     "output_type": "stream",
     "text": [
      "Collecting librosa\n",
      "  Downloading librosa-0.10.0.post2-py3-none-any.whl (253 kB)\n",
      "\u001b[2K     \u001b[38;2;114;156;31m━━━━━━━━━━━━━━━━━━━━━━━━━━━━━━━━━━━━━━━\u001b[0m \u001b[32m253.0/253.0 kB\u001b[0m \u001b[31m7.5 MB/s\u001b[0m eta \u001b[36m0:00:00\u001b[0m\n",
      "\u001b[?25hCollecting audioread>=2.1.9 (from librosa)\n",
      "  Using cached audioread-3.0.0-py3-none-any.whl\n",
      "Requirement already satisfied: numpy!=1.22.0,!=1.22.1,!=1.22.2,>=1.20.3 in /home/joel/ai_models/notebookenv/lib/python3.8/site-packages (from librosa) (1.24.3)\n",
      "Requirement already satisfied: scipy>=1.2.0 in /home/joel/ai_models/notebookenv/lib/python3.8/site-packages (from librosa) (1.10.1)\n",
      "Collecting scikit-learn>=0.20.0 (from librosa)\n",
      "  Downloading scikit_learn-1.2.2-cp38-cp38-manylinux_2_17_x86_64.manylinux2014_x86_64.whl (9.8 MB)\n",
      "\u001b[2K     \u001b[38;2;114;156;31m━━━━━━━━━━━━━━━━━━━━━━━━━━━━━━━━━━━━━━━━\u001b[0m \u001b[32m9.8/9.8 MB\u001b[0m \u001b[31m37.8 MB/s\u001b[0m eta \u001b[36m0:00:00\u001b[0mm eta \u001b[36m0:00:01\u001b[0m0:01\u001b[0m:01\u001b[0m\n",
      "\u001b[?25hCollecting joblib>=0.14 (from librosa)\n",
      "  Using cached joblib-1.2.0-py3-none-any.whl (297 kB)\n",
      "Requirement already satisfied: decorator>=4.3.0 in /home/joel/ai_models/notebookenv/lib/python3.8/site-packages (from librosa) (5.1.1)\n",
      "Collecting numba>=0.51.0 (from librosa)\n",
      "  Downloading numba-0.57.0-cp38-cp38-manylinux2014_x86_64.manylinux_2_17_x86_64.whl (3.6 MB)\n",
      "\u001b[2K     \u001b[38;2;114;156;31m━━━━━━━━━━━━━━━━━━━━━━━━━━━━━━━━━━━━━━━━\u001b[0m \u001b[32m3.6/3.6 MB\u001b[0m \u001b[31m41.2 MB/s\u001b[0m eta \u001b[36m0:00:00\u001b[0m31m47.9 MB/s\u001b[0m eta \u001b[36m0:00:01\u001b[0m\n",
      "\u001b[?25hCollecting soundfile>=0.12.1 (from librosa)\n",
      "  Downloading soundfile-0.12.1-py2.py3-none-manylinux_2_31_x86_64.whl (1.2 MB)\n",
      "\u001b[2K     \u001b[38;2;114;156;31m━━━━━━━━━━━━━━━━━━━━━━━━━━━━━━━━━━━━━━━━\u001b[0m \u001b[32m1.2/1.2 MB\u001b[0m \u001b[31m23.9 MB/s\u001b[0m eta \u001b[36m0:00:00\u001b[0m MB/s\u001b[0m eta \u001b[36m0:00:01\u001b[0m\n",
      "\u001b[?25hCollecting pooch<1.7,>=1.0 (from librosa)\n",
      "  Using cached pooch-1.6.0-py3-none-any.whl (56 kB)\n",
      "Collecting soxr>=0.3.2 (from librosa)\n",
      "  Downloading soxr-0.3.5-cp38-cp38-manylinux_2_17_x86_64.manylinux2014_x86_64.whl (1.3 MB)\n",
      "\u001b[2K     \u001b[38;2;114;156;31m━━━━━━━━━━━━━━━━━━━━━━━━━━━━━━━━━━━━━━━━\u001b[0m \u001b[32m1.3/1.3 MB\u001b[0m \u001b[31m35.3 MB/s\u001b[0m eta \u001b[36m0:00:00\u001b[0mm eta \u001b[36m0:00:01\u001b[0m\n",
      "\u001b[?25hRequirement already satisfied: typing-extensions>=4.1.1 in /home/joel/ai_models/notebookenv/lib/python3.8/site-packages (from librosa) (4.6.3)\n",
      "Collecting lazy-loader>=0.1 (from librosa)\n",
      "  Downloading lazy_loader-0.2-py3-none-any.whl (8.6 kB)\n",
      "Collecting msgpack>=1.0 (from librosa)\n",
      "  Downloading msgpack-1.0.5-cp38-cp38-manylinux_2_17_x86_64.manylinux2014_x86_64.whl (322 kB)\n",
      "\u001b[2K     \u001b[38;2;114;156;31m━━━━━━━━━━━━━━━━━━━━━━━━━━━━━━━━━━━━━━\u001b[0m \u001b[32m322.4/322.4 kB\u001b[0m \u001b[31m36.8 MB/s\u001b[0m eta \u001b[36m0:00:00\u001b[0m\n",
      "\u001b[?25hCollecting llvmlite<0.41,>=0.40.0dev0 (from numba>=0.51.0->librosa)\n",
      "  Downloading llvmlite-0.40.1rc1-cp38-cp38-manylinux_2_17_x86_64.manylinux2014_x86_64.whl (42.1 MB)\n",
      "\u001b[2K     \u001b[38;2;114;156;31m━━━━━━━━━━━━━━━━━━━━━━━━━━━━━━━━━━━━━━━━\u001b[0m \u001b[32m42.1/42.1 MB\u001b[0m \u001b[31m29.9 MB/s\u001b[0m eta \u001b[36m0:00:00\u001b[0mm eta \u001b[36m0:00:01\u001b[0m[36m0:00:01\u001b[0m\n",
      "\u001b[?25hRequirement already satisfied: importlib-metadata in /home/joel/ai_models/notebookenv/lib/python3.8/site-packages (from numba>=0.51.0->librosa) (6.6.0)\n",
      "Collecting appdirs>=1.3.0 (from pooch<1.7,>=1.0->librosa)\n",
      "  Using cached appdirs-1.4.4-py2.py3-none-any.whl (9.6 kB)\n",
      "Requirement already satisfied: packaging>=20.0 in /home/joel/ai_models/notebookenv/lib/python3.8/site-packages (from pooch<1.7,>=1.0->librosa) (23.1)\n",
      "Requirement already satisfied: requests>=2.19.0 in /home/joel/ai_models/notebookenv/lib/python3.8/site-packages (from pooch<1.7,>=1.0->librosa) (2.31.0)\n",
      "Collecting threadpoolctl>=2.0.0 (from scikit-learn>=0.20.0->librosa)\n",
      "  Using cached threadpoolctl-3.1.0-py3-none-any.whl (14 kB)\n",
      "Requirement already satisfied: cffi>=1.0 in /home/joel/ai_models/notebookenv/lib/python3.8/site-packages (from soundfile>=0.12.1->librosa) (1.15.1)\n",
      "Requirement already satisfied: pycparser in /home/joel/ai_models/notebookenv/lib/python3.8/site-packages (from cffi>=1.0->soundfile>=0.12.1->librosa) (2.21)\n",
      "Requirement already satisfied: charset-normalizer<4,>=2 in /home/joel/ai_models/notebookenv/lib/python3.8/site-packages (from requests>=2.19.0->pooch<1.7,>=1.0->librosa) (3.1.0)\n",
      "Requirement already satisfied: idna<4,>=2.5 in /home/joel/ai_models/notebookenv/lib/python3.8/site-packages (from requests>=2.19.0->pooch<1.7,>=1.0->librosa) (3.4)\n",
      "Requirement already satisfied: urllib3<3,>=1.21.1 in /home/joel/ai_models/notebookenv/lib/python3.8/site-packages (from requests>=2.19.0->pooch<1.7,>=1.0->librosa) (2.0.3)\n",
      "Requirement already satisfied: certifi>=2017.4.17 in /home/joel/ai_models/notebookenv/lib/python3.8/site-packages (from requests>=2.19.0->pooch<1.7,>=1.0->librosa) (2023.5.7)\n",
      "Requirement already satisfied: zipp>=0.5 in /home/joel/ai_models/notebookenv/lib/python3.8/site-packages (from importlib-metadata->numba>=0.51.0->librosa) (3.15.0)\n",
      "Installing collected packages: msgpack, appdirs, threadpoolctl, soxr, llvmlite, lazy-loader, joblib, audioread, soundfile, scikit-learn, pooch, numba, librosa\n",
      "Successfully installed appdirs-1.4.4 audioread-3.0.0 joblib-1.2.0 lazy-loader-0.2 librosa-0.10.0.post2 llvmlite-0.40.1rc1 msgpack-1.0.5 numba-0.57.0 pooch-1.6.0 scikit-learn-1.2.2 soundfile-0.12.1 soxr-0.3.5 threadpoolctl-3.1.0\n",
      "Note: you may need to restart the kernel to use updated packages.\n"
     ]
    }
   ],
   "source": [
    "pip install librosa"
   ]
  },
  {
   "cell_type": "code",
   "execution_count": 10,
   "metadata": {},
   "outputs": [
    {
     "name": "stdout",
     "output_type": "stream",
     "text": [
      "Collecting pydub\n",
      "  Using cached pydub-0.25.1-py2.py3-none-any.whl (32 kB)\n",
      "Installing collected packages: pydub\n",
      "Successfully installed pydub-0.25.1\n",
      "Note: you may need to restart the kernel to use updated packages.\n"
     ]
    }
   ],
   "source": [
    "pip install pydub"
   ]
  },
  {
   "cell_type": "code",
   "execution_count": null,
   "metadata": {},
   "outputs": [],
   "source": []
  }
 ],
 "metadata": {
  "kernelspec": {
   "display_name": "Python 3 (ipykernel)",
   "language": "python",
   "name": "python3"
  },
  "language_info": {
   "codemirror_mode": {
    "name": "ipython",
    "version": 3
   },
   "file_extension": ".py",
   "mimetype": "text/x-python",
   "name": "python",
   "nbconvert_exporter": "python",
   "pygments_lexer": "ipython3",
   "version": "3.8.10"
  }
 },
 "nbformat": 4,
 "nbformat_minor": 4
}
